{
 "cells": [
  {
   "cell_type": "markdown",
   "metadata": {},
   "source": [
    "# RNAseq Analysis Module"
   ]
  },
  {
   "cell_type": "markdown",
   "metadata": {},
   "source": [
    "## Practical session 4: Mapping output quality check\n",
    "\n",
    "Wednesday, the 2nd of December, 2020   \n",
    "Claire Vandiedonck and Sandrine Caburet - 2020   \n",
    "\n",
    "\n",
    "   1. Quality reports with qualimap, on sorted bam files (outputs of mapping with bowtie)  \n",
    "   2. multiqc to Generation of a single report for all quality checks at once with multiqc  \n",
    "   3. Visualisation of the mapped data, with IGV \n",
    "\n"
   ]
  },
  {
   "cell_type": "markdown",
   "metadata": {},
   "source": [
    "---\n",
    "**Before going further**\n",
    "\n",
    "<mark>Before starting the analysis, save a backup copy of this notebok : in the left-hand panel, right-click on this file and select \"Duplicate\"  <mark>\n",
    "\n",
    "You can also make backups during the analysis.\n",
    "\n",
    "---"
   ]
  },
  {
   "cell_type": "markdown",
   "metadata": {},
   "source": [
    "## I - Mapping quality check with Qualimap\n",
    "Qualimap v2.2.2"
   ]
  },
  {
   "cell_type": "markdown",
   "metadata": {},
   "source": [
    "After the mapping steps that we performed yesterday, we are going to check the outputs for the quality of the mapping procedure. So first we'll run the Qualimap program, that collects the data about the bam file, including coverage estimation and many other parameters, and reports a summary of the main properties of the alignment data. \n",
    "Qualimap reads sorted.bam files and generates a folder containing a report on .html format"
   ]
  },
  {
   "cell_type": "code",
   "execution_count": null,
   "metadata": {},
   "outputs": [],
   "source": [
    "# Contents of the Results folder\n",
    "ls -lh ./Results"
   ]
  },
  {
   "cell_type": "markdown",
   "metadata": {},
   "source": [
    "THe files analysed by Qualimap are the sorted bam files. Here are the ones correponding to the samples that were mapped yesterday: "
   ]
  },
  {
   "cell_type": "code",
   "execution_count": null,
   "metadata": {},
   "outputs": [],
   "source": [
    "ls -lh ./Results/*.sorted.bam"
   ]
  },
  {
   "cell_type": "markdown",
   "metadata": {},
   "source": [
    "To get a properly-named folder for each bam file analysed by Qualimap, the program will be run in a _*for loop*_, that will run the program once for each element in the provided list."
   ]
  },
  {
   "cell_type": "code",
   "execution_count": null,
   "metadata": {},
   "outputs": [],
   "source": [
    "rm -r ./Results/Normoxia_1_qualimapReport"
   ]
  },
  {
   "cell_type": "code",
   "execution_count": null,
   "metadata": {},
   "outputs": [],
   "source": [
    "#Runs for multiple html outputs, with relevant names\n",
    "\n",
    "for name in Normoxia_1 Hypoxia_1 SRR352261 SRR352264 SRR352266 SRR352267 SRR352270 SRR352273 SRR352274 SRR352276\n",
    "    do mybam=\"$name\"\"_bowtie_mapping.sorted.bam\"\n",
    "    echo \"------ mybam is: $mybam ------\"\n",
    "    myoutdir=\"./Results/\"\"$name\"\"_qualimapReport\"\n",
    "    echo \"myout is: $myoutdir \"\n",
    "    qualimap bamqc -bam ./Results/$mybam -gff /srv/data/meg-m2-rnaseq/genome/C_parapsilosis_ORFs.gff -outdir $myoutdir \n",
    "    \n",
    "done"
   ]
  },
  {
   "cell_type": "markdown",
   "metadata": {},
   "source": [
    "## II - Compiling the quality check reports\n",
    "\n",
    "When numerous samples are processed, it can easily become tedious to look in each mapping quality report. So we'll run MultiQC, that scans automatically a folder for all quality checks outputs and produce a single report.\n",
    "\n",
    "MultiQC v1.9\n"
   ]
  },
  {
   "cell_type": "code",
   "execution_count": null,
   "metadata": {},
   "outputs": [],
   "source": [
    "# The --flat option is set, because PLASMA is not configured right now to enable dynamic graphs. Most of them will still be visible and usefull.\n",
    "\n",
    "multiqc --flat ./Results"
   ]
  },
  {
   "cell_type": "markdown",
   "metadata": {},
   "source": [
    "To open the report, double-click on the multiqc_report.html in the left-hand panel. Enjoy !"
   ]
  },
  {
   "cell_type": "markdown",
   "metadata": {},
   "source": [
    "## III - Visualisation of mapped data with IGV\n",
    "\n",
    "Unfortunately, the widget for \"mounting\" IGV within a jupyter notebook is not ready yet (development in progress).\n",
    "\n",
    "So we'll look at the mapped data using the IGV desktop app (avalaible here: http://software.broadinstitute.org/software/igv/download)\n",
    "To avoid any lengthy download, the data can be retrieved from the galaxy history (cf Practical Session 2, https://usegalaxy.eu/) and pushed into IGV via the _*display with IGV local*_ link, available when \"opening\" the title of a dataset.  \n",
    "\n",
    "(If you have trouble with your own history, one is available with relevant datasets here: https://usegalaxy.eu/u/scaburet/h/rnaseq-candida-data-analysis)\n",
    "\n",
    "---\n",
    "\n",
    "Now we go on with a lecture about the quantification of mapped RNAseq data. \n",
    "\n",
    "**=> Lecture 5 : Normalisation and quantification of expression** "
   ]
  },
  {
   "cell_type": "code",
   "execution_count": null,
   "metadata": {},
   "outputs": [],
   "source": []
  },
  {
   "cell_type": "markdown",
   "metadata": {},
   "source": [
    "\n",
    "---\n",
    "\n",
    "<div class=\"alert alert-block alert-info\"> \n",
    "    \n",
    "__*About jupyter notebooks*__\n",
    "\n",
    "- To add a new cell, click on the \"+\" icon in the menu bar above dans la barre des menus\n",
    "- You can \"click and drag\" to move a cell up or down\n",
    "- You choose the type of cell in the dropdow menu in the menu bar above\n",
    "    - 'Code' to enter command lines to be executed \n",
    "    - 'Markdown' cells to add text, that can be formatted with some characters \n",
    "- To execute a 'Code' cell, press SHIFT+ENTER or click on the \"play\" icon \n",
    "- To display a 'Markdown' cell, press SHIFT+ENTER or click on the \"play\" icon  \n",
    "- To modify a 'Markdown'cell, double-click on it\n",
    "</div>\n",
    "    \n",
    "---"
   ]
  },
  {
   "cell_type": "code",
   "execution_count": null,
   "metadata": {},
   "outputs": [],
   "source": []
  }
 ],
 "metadata": {
  "kernelspec": {
   "display_name": "Bash",
   "language": "bash",
   "name": "bash"
  },
  "language_info": {
   "codemirror_mode": "shell",
   "file_extension": ".sh",
   "mimetype": "text/x-sh",
   "name": "bash"
  }
 },
 "nbformat": 4,
 "nbformat_minor": 4
}
