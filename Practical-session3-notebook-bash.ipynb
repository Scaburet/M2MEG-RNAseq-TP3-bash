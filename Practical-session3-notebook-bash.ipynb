{
 "cells": [
  {
   "cell_type": "markdown",
   "metadata": {},
   "source": [
    "# RNAseq Analysis Module"
   ]
  },
  {
   "cell_type": "markdown",
   "metadata": {},
   "source": [
    "## Practical Session 3: Quality check of raw data and mapping \n",
    "\n",
    "Tuesday, the 1st of December, 2020   \n",
    "Claire Vandiedonck and Sandrine Caburet - 2020  \n",
    "\n",
    "\n",
    "   1. Getting started   \n",
    "   2. Quality controls on Cparapsilosis fastq files   \n",
    "   3. Mapping the reads on CParasilosis genome using the BOWTIE program  \n",
    "   4. Managing the output files\n",
    "   5. Batch analysing of the other samples\n"
   ]
  },
  {
   "cell_type": "markdown",
   "metadata": {},
   "source": [
    "---\n",
    "**Before going further**\n",
    "\n",
    "<mark>Before starting the analysis, save a backup copy of this notebok : in the left-hand panel, right-click on this file and select \"Duplicate\"  <mark>\n",
    "\n",
    "You can also make backups during the analysis.\n",
    "\n",
    "---\n",
    "<div class=\"alert alert-block alert-info\"> \n",
    "    \n",
    "__*About jupyter notebooks*__\n",
    "\n",
    "- To add a new cell, click on the \"+\" icon in the menu bar above dans la barre des menus\n",
    "- You can \"click and drag\" to move a cell up or down\n",
    "- You choose the type of cell in the dropdow menu in the menu bar above\n",
    "    - 'Code' to enter command lines to be executed \n",
    "    - 'Markdown' cells to add text, that can be formatted with some characters \n",
    "- To execute a 'Code' cell, press SHIFT+ENTER or click on the \"play\" icon \n",
    "- To display a 'Markdown' cell, press SHIFT+ENTER or click on the \"play\" icon  \n",
    "- To modify a 'Markdown'cell, double-click on it\n",
    "</div>\n",
    "    \n",
    "---"
   ]
  },
  {
   "cell_type": "markdown",
   "metadata": {},
   "source": [
    "\n",
    "__*About this jupyter notebook*__\n",
    "\n",
    "This a jupyter notebook in **bash**, meaning that the commands you will enter or run in 'Code' cells are directly understood by the server. You could run the same commands in a 'Terminal' (the frightening black window that informaticians use :-D). \n",
    "\n",
    "(If you want to see this by yourself, you can open a terminal here: \n",
    "- in the \"File\" menu in the top bar, select 'New Launcher'\n",
    "- open either a bash 'Console' or a 'Terminal'\n",
    "- you'll be able to copy and paste the commands from the 'Code' cells of the notebook in the bottom cell (for the console) or after the $ sign (for the terminal)   \n",
    "This is for your information only, and not needed. All the commands are already included in this notebook)\n",
    "\n",
    "In this practical, you will run one command at a time.   \n",
    "In Unix, all characters are case sensitive. It is good practice to avoid accents and special characters.   \n",
    "Within 'Code' cells, lines starting with a **#** are comments and are not interpreted as a command. They are meant to help you.  \n",
    "You may add your own comments as well, either in a 'Code' cell using this #, or in a new 'Markdown' cell added with the \"+\" above.  \n",
    "If you add cells with comments, or modify existing cells, **don't forget to save your notebook**."
   ]
  },
  {
   "cell_type": "markdown",
   "metadata": {},
   "source": [
    "## I - Getting started\n",
    "\n",
    "**1- Working directory** \n",
    "\n",
    "The working directory is where you are currently located in the server. By default, for this practical session using this notebook, this is the folder displayed by the opening of the environment, that you performed when you selected the correct 'server' and launched it: it created the corresponding folder in you home.  \n",
    "\n",
    "To check where you are working, use the _*pwd*_ command, which stands for \"path to working directory\":"
   ]
  },
  {
   "cell_type": "code",
   "execution_count": null,
   "metadata": {},
   "outputs": [],
   "source": [
    "pwd"
   ]
  },
  {
   "cell_type": "markdown",
   "metadata": {},
   "source": [
    "The content of this working directory is displayed in the left panel. You can also list the content of this folder with the _*ls*_ command (list):"
   ]
  },
  {
   "cell_type": "code",
   "execution_count": null,
   "metadata": {},
   "outputs": [],
   "source": [
    "# the option -l will provide details of size for each file, \n",
    "# the option h stands for human, to read the file size in a human easy manner. \n",
    "# the two options are combined with -lh\n",
    "\n",
    "ls -lh"
   ]
  },
  {
   "cell_type": "markdown",
   "metadata": {},
   "source": [
    "  "
   ]
  },
  {
   "cell_type": "markdown",
   "metadata": {},
   "source": [
    "**2- Data**   \n",
    "The data files are already present on the server, in the */srv/data/meg-m2-rnaseq/genome/* and in */srv/data/meg-m2-rnaseq/experimental_data* folders.  \n",
    "Therefore, to be able to use these data files, we indicate the full **path** to these folders:"
   ]
  },
  {
   "cell_type": "code",
   "execution_count": null,
   "metadata": {},
   "outputs": [],
   "source": [
    "# Here we list the content of the folder containing the genome data\n",
    "\n",
    "ls -lh /srv/data/meg-m2-rnaseq/genome/"
   ]
  },
  {
   "cell_type": "code",
   "execution_count": null,
   "metadata": {},
   "outputs": [],
   "source": [
    "# Here we list the content of the folder containing the experimental data\n",
    "\n",
    "ls -lh /srv/data/meg-m2-rnaseq/experimental_data/"
   ]
  },
  {
   "cell_type": "markdown",
   "metadata": {},
   "source": [
    "If you had copied these input files on your computer, it would have been useful to verify that they are intact and not corrupted.  \n",
    "This is performed by computing a _*md5sum*_, a kind of \"barcode\", that should be the same as the one computed before the copy."
   ]
  },
  {
   "cell_type": "code",
   "execution_count": null,
   "metadata": {},
   "outputs": [],
   "source": [
    "# In a command, * stands for 'anything'.\n",
    "\n",
    "md5sum /srv/data/meg-m2-rnaseq/genome/*\n",
    "\n",
    "#You should get the following \"barcodes\" for each file :\n",
    "# 6455d97a060c3c7d1e94112f818fa046  /srv/data/meg-m2-rnaseq/C_parapsilosis_CDC317_GO_distrib-5958g.txt\n",
    "# e189032dafc2b7013eeae7d33cbf9458  /srv/data/meg-m2-rnaseq/C_parapsilosis_CGD.fasta\n",
    "# 537217ec9ac54343af31b28521c0c6f3  /srv/data/meg-m2-rnaseq/genome/C_parapsilosis_CGD.fasta.fai\n",
    "# e86c62e99a240c0ac309cd067d105522  /srv/data/meg-m2-rnaseq/C_parapsilosis_ORFs.gff\n"
   ]
  },
  {
   "cell_type": "code",
   "execution_count": null,
   "metadata": {},
   "outputs": [],
   "source": [
    "# And now for the experimental data :\n",
    "\n",
    "md5sum /srv/data/meg-m2-rnaseq/experimental_data/*\n",
    "\n",
    "#You should get the following \"barcodes\" for each file :\n",
    "\n",
    "# 2fb96155f5c708709a7539c7ff19e9ff  /srv/data/meg-m2-rnaseq/Hypoxia_1.fastq\n",
    "# 0d8d81a7464f6b662b89a9cea5bb8d1c  /srv/data/meg-m2-rnaseq/Normoxia_1.fastq"
   ]
  },
  {
   "cell_type": "markdown",
   "metadata": {},
   "source": [
    "Now we'll create a new directory to store the results of our analysis, using the _*mkdir*_ command, for \"make directory\", and within it a sub-folder for quality checks outputs:"
   ]
  },
  {
   "cell_type": "code",
   "execution_count": null,
   "metadata": {},
   "outputs": [],
   "source": [
    "  mkdir Results\n",
    "  mkdir Results/Fastqc"
   ]
  },
  {
   "cell_type": "markdown",
   "metadata": {},
   "source": [
    "You are now ready to check and analyse the data! \n",
    "\n",
    "-------"
   ]
  },
  {
   "cell_type": "markdown",
   "metadata": {},
   "source": [
    "## II - Quality controls on Cparapsilosis fastq files\n",
    "\n",
    "**1- Examining the data**   \n",
    "fastq files are readable by the human eye, and we can display the first and last lines of each file, using the _*head*_ and _*tail*_ commands:  "
   ]
  },
  {
   "cell_type": "code",
   "execution_count": null,
   "metadata": {},
   "outputs": [],
   "source": [
    "head /srv/data/meg-m2-rnaseq/experimental_data/Normoxia_1.fastq"
   ]
  },
  {
   "cell_type": "code",
   "execution_count": null,
   "metadata": {},
   "outputs": [],
   "source": [
    "tail /srv/data/meg-m2-rnaseq/experimental_data/Normoxia_1.fastq"
   ]
  },
  {
   "cell_type": "code",
   "execution_count": null,
   "metadata": {},
   "outputs": [],
   "source": [
    "head /srv/data/meg-m2-rnaseq/experimental_data/Hypoxia_1.fastq"
   ]
  },
  {
   "cell_type": "code",
   "execution_count": null,
   "metadata": {},
   "outputs": [],
   "source": [
    "tail /srv/data/meg-m2-rnaseq/experimental_data/Hypoxia_1.fastq"
   ]
  },
  {
   "cell_type": "markdown",
   "metadata": {},
   "source": [
    "**2- fastqc**  \n",
    "Now we run again the fastqc quality control, with the following command lines, where we indicate after the command _*fastqc*_ and the name of the file to examine (with its path) where to write the results : the dot . stands for \"current working directory\". "
   ]
  },
  {
   "cell_type": "code",
   "execution_count": null,
   "metadata": {},
   "outputs": [],
   "source": [
    "fastqc /srv/data/meg-m2-rnaseq/experimental_data/Normoxia_1.fastq --outdir ./Results/Fastqc"
   ]
  },
  {
   "cell_type": "markdown",
   "metadata": {},
   "source": [
    "The ouputs are in a .zip folder, but there is no need to open them, as a summary in html is also provided. To open it, in the left-hand part double-click the Results folder, and in it, \n",
    "on the html file, it should open in a new tab beside this notebook."
   ]
  },
  {
   "cell_type": "code",
   "execution_count": null,
   "metadata": {},
   "outputs": [],
   "source": [
    "fastqc /srv/data/meg-m2-rnaseq/experimental_data/Hypoxia_1.fastq --outdir ./Results/Fastqc"
   ]
  },
  {
   "cell_type": "markdown",
   "metadata": {},
   "source": [
    "  "
   ]
  },
  {
   "cell_type": "markdown",
   "metadata": {},
   "source": [
    "## III - Mapping the reads on CParapsilosis genome using the BOWTIE algorithm (version 1.3.0) \n",
    "\n",
    "**1- Generating the indexes of the C. parapsilosis genome**   \n",
    "The indexes are small files that tell a program where to look for data in a large data file. They are required for mapping algorithms, as they allow for faster processing of millions reads. "
   ]
  },
  {
   "cell_type": "code",
   "execution_count": null,
   "metadata": {},
   "outputs": [],
   "source": [
    "bowtie-build -q /srv/data/meg-m2-rnaseq/genome/C_parapsilosis_CGD.fasta C_parapsilosis "
   ]
  },
  {
   "cell_type": "markdown",
   "metadata": {},
   "source": [
    "The index files have the .ebwt suffix :"
   ]
  },
  {
   "cell_type": "code",
   "execution_count": null,
   "metadata": {},
   "outputs": [],
   "source": [
    "ls -lh *.ebwt"
   ]
  },
  {
   "cell_type": "markdown",
   "metadata": {},
   "source": [
    "**2- Mapping the reads**  \n",
    "We use Bowtie, a mapper that is very simple and efficient. It's not recent at all, and cannot deal with intron-containing genome, but here it works fine."
   ]
  },
  {
   "cell_type": "code",
   "execution_count": null,
   "metadata": {},
   "outputs": [],
   "source": [
    "# the -S option tells bowtie to generate a .sam file  \n",
    "# the -x option indicates the name of the various index files  \n",
    "# the last argument is the name of the output file, herelocated directly into the Results folder ./Results/\n",
    "\n",
    "bowtie -S /srv/data/meg-m2-rnaseq/experimental_data/Normoxia_1.fastq -x C_parapsilosis ./Results/Normoxia_1_bowtie_mapping.sam"
   ]
  },
  {
   "cell_type": "code",
   "execution_count": null,
   "metadata": {},
   "outputs": [],
   "source": [
    "bowtie -S /srv/data/meg-m2-rnaseq/experimental_data/Hypoxia_1.fastq -x C_parapsilosis ./Results/Hypoxia_1_bowtie_mapping.sam"
   ]
  },
  {
   "cell_type": "markdown",
   "metadata": {},
   "source": [
    "*Question:*  (you can click here to add your answers directly in this markdown cell) \n",
    "For each dataset:\n",
    "how many reads were processed?  \n",
    "Mapped?  \n",
    "Written in the output file?"
   ]
  },
  {
   "cell_type": "markdown",
   "metadata": {},
   "source": [
    "## IV - Managing the output files\n",
    "\n",
    "**1- Converting, sorting and indexing the output files**  \n",
    "The downstream analysis is not performed on *sam* files, but on binary versions of these : *bam* files.  \n",
    "So we are going to:  \n",
    "- convert the *sam* into *bam* files, \n",
    "- then sort them in genomic order,  \n",
    "- finally index them, to produce the companion *bai* files"
   ]
  },
  {
   "cell_type": "markdown",
   "metadata": {},
   "source": [
    "The commands used for this part belong to a large package of utilities that are very useful to manage those types of files: **samtools**.  \n",
    "\n",
    "The first step is performed with *samtools view*.   "
   ]
  },
  {
   "cell_type": "code",
   "execution_count": null,
   "metadata": {},
   "outputs": [],
   "source": [
    "# The 'view' function allows to display bam/sam files, \n",
    "# -b is to specify that outputs are bam files, \n",
    "# -o is to provide the name of the ouput file.\n",
    "\n",
    "samtools view -b ./Results/Normoxia_1_bowtie_mapping.sam -o ./Results/Normoxia_1_bowtie_mapping.bam"
   ]
  },
  {
   "cell_type": "markdown",
   "metadata": {},
   "source": [
    "The second step is performed with *samtools sort*. Again, -o is to provide the name of the ouput file."
   ]
  },
  {
   "cell_type": "code",
   "execution_count": null,
   "metadata": {},
   "outputs": [],
   "source": [
    "samtools sort ./Results/Normoxia_1_bowtie_mapping.bam -o ./Results/Normoxia_1_bowtie_mapping.sorted.bam"
   ]
  },
  {
   "cell_type": "markdown",
   "metadata": {},
   "source": [
    "The third step is performed with *samtools index*.  \n",
    "There is no need to provide a name of the ouput file, as it should always be the same as the corresponding *bam* file, except for the *bai* suffix."
   ]
  },
  {
   "cell_type": "code",
   "execution_count": null,
   "metadata": {},
   "outputs": [],
   "source": [
    "samtools index ./Results/Normoxia_1_bowtie_mapping.sorted.bam"
   ]
  },
  {
   "cell_type": "markdown",
   "metadata": {},
   "source": [
    "For the Hypoxia data set, we can proceed to the 3 steps in the same cell: the commands will be executed one after the other."
   ]
  },
  {
   "cell_type": "code",
   "execution_count": null,
   "metadata": {},
   "outputs": [],
   "source": [
    "samtools view -b ./Results/Hypoxia_1_bowtie_mapping.sam -o ./Results/Hypoxia_1_bowtie_mapping.bam\n",
    "samtools sort ./Results/Hypoxia_1_bowtie_mapping.bam -o ./Results/Hypoxia_1_bowtie_mapping.sorted.bam\n",
    "samtools index ./Results/Hypoxia_1_bowtie_mapping.sorted.bam"
   ]
  },
  {
   "cell_type": "markdown",
   "metadata": {},
   "source": [
    "**2- Removing the intermediate files**  \n",
    "The only files needed for the rest of the analysis are the mapped-sorted *bam* files and their corresponding *bai* index files. So we are going to save some space by deleting the intermediate files that are not needed any more. (Anyway you can easily produce them again, by running the corresponding Code cell above).  \n",
    "You can delete a file by right-clicking on it and choosing 'x Delete', or by running the *rm* command (remove):"
   ]
  },
  {
   "cell_type": "code",
   "execution_count": null,
   "metadata": {},
   "outputs": [],
   "source": [
    "rm ./Results/Normoxia_1_bowtie_mapping.bam\n",
    "rm ./Results/Hypoxia_1_bowtie_mapping.bam"
   ]
  },
  {
   "cell_type": "code",
   "execution_count": null,
   "metadata": {},
   "outputs": [],
   "source": [
    "# removing all the .sam files at the same time\n",
    "\n",
    "rm ./Results/*.sam"
   ]
  },
  {
   "cell_type": "markdown",
   "metadata": {},
   "source": [
    "## V - Analysis of the other samples"
   ]
  },
  {
   "cell_type": "markdown",
   "metadata": {},
   "source": [
    "The complete study involves 6 Normoxia samples and 4 Hypoxia samples. For the remaining 8 samples, we'll perform a batch analysis (all the steps together, for multiple files at once) :\n",
    "- quality check with fastqc\n",
    "- mapping with bowtie\n",
    "- sam-to-bam conversion with samtools\n",
    "- bam sorting and indexing with samtools\n",
    "- removal of intermediate files\n",
    "\n",
    "For these steps, we use a _*for loop*_, that will run the program once for each element in the provided list, and produce a properly-named output file."
   ]
  },
  {
   "cell_type": "code",
   "execution_count": null,
   "metadata": {},
   "outputs": [],
   "source": [
    "# quality check with fastqc\n",
    "fastqc /srv/data/meg-m2-rnaseq/experimental_data/*.fastqsanger.gz --outdir ./Results/Fastqc\n",
    "\n",
    "#-----------------\n",
    "# mapping with bowtie\n",
    "for name in SRR352261 SRR352264 SRR352266 SRR352267 SRR352270 SRR352273 SRR352274 SRR352276\n",
    "    do myfastq=\"$name\"\".fastqsanger.gz\"\n",
    "    echo \"------ myfastq is: $myfastq ------\"\n",
    "    myoutsam=\"./Results/\"\"$name\"\"_bowtie_mapping.sam\"\n",
    "    echo \"myoutsam is: $myoutsam \"\n",
    "    bowtie -S /srv/data/meg-m2-rnaseq/experimental_data/$myfastq -x C_parapsilosis $myoutsam\n",
    "done\n",
    "\n",
    "#-----------------\n",
    "# sam-to-bam conversion with samtools\n",
    "for name in SRR352261 SRR352264 SRR352266 SRR352267 SRR352270 SRR352273 SRR352274 SRR352276   \n",
    "    do myoutbam=\"./Results/\"\"$name\"\"_bowtie_mapping.bam\"\n",
    "    echo \"myoutbam is: $myoutbam \"\n",
    "    samtools view -b $myoutsam -o $myoutbam\n",
    "done\n",
    "\n",
    "#-----------------\n",
    "# bam sorting with samtools\n",
    "for name in SRR352261 SRR352264 SRR352266 SRR352267 SRR352270 SRR352273 SRR352274 SRR352276   \n",
    "    do myoutsortedbam=\"./Results/\"\"$name\"\"_bowtie_mapping.sorted.bam\"\n",
    "    echo \"myoutsortedbam is: $myoutsortedbam\"     \n",
    "    samtools sort $myoutbam -o $myoutsortedbam\n",
    "done\n",
    "    \n",
    "#-----------------\n",
    "# bam indexing with samtools\n",
    "for name in SRR352261 SRR352264 SRR352266 SRR352267 SRR352270 SRR352273 SRR352274 SRR352276   \n",
    "   do myoutsortedbam=\"./Results/\"\"$name\"\"_bowtie_mapping.sorted.bam\"\n",
    "   echo \"myoutsortedbam is: $myoutsortedbam\"\n",
    "   echo \"indexing sorted bam files...\"\n",
    "   samtools index $myoutsortedbam\n",
    "done\n",
    "     \n",
    "#-----------------\n",
    "# removal of intermediate files\n",
    "rm ./Results/*.sam\n",
    "for name in SRR352261 SRR352264 SRR352266 SRR352267 SRR352270 SRR352273 SRR352274 SRR352276   \n",
    "    do myoutbam=\"./Results/\"\"$name\"\"_bowtie_mapping.bam\"\n",
    "    echo \"myoutbam about to be deleted is: $myoutbam \"\n",
    "    rm $myoutbam\n",
    "done\n",
    " "
   ]
  },
  {
   "cell_type": "code",
   "execution_count": null,
   "metadata": {},
   "outputs": [],
   "source": []
  },
  {
   "cell_type": "markdown",
   "metadata": {},
   "source": [
    "\n",
    "---\n",
    "Now we go on with a lecture about what is indicated in the output sorted *bam* files. \n",
    "\n",
    "**=> Lecture 5 : Mapping output** "
   ]
  },
  {
   "cell_type": "code",
   "execution_count": null,
   "metadata": {},
   "outputs": [],
   "source": []
  }
 ],
 "metadata": {
  "kernelspec": {
   "display_name": "Bash",
   "language": "bash",
   "name": "bash"
  },
  "language_info": {
   "codemirror_mode": "shell",
   "file_extension": ".sh",
   "mimetype": "text/x-sh",
   "name": "bash"
  }
 },
 "nbformat": 4,
 "nbformat_minor": 4
}
