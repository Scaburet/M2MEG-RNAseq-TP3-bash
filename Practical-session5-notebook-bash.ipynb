{
 "cells": [
  {
   "cell_type": "markdown",
   "metadata": {},
   "source": [
    "# RNAseq Analysis Module"
   ]
  },
  {
   "cell_type": "markdown",
   "metadata": {},
   "source": [
    "## Practical session 5: Read Counts\n",
    "\n",
    "Wednesday, the 2nd of December, 2020   \n",
    "Claire Vandiedonck and Sandrine Caburet - 2020  \n",
    "\n",
    "  1. Quantification of reads on genomic features\n",
    "\n",
    "---\n",
    "**Before going further**\n",
    "\n",
    "<mark>Before starting the analysis, save a backup copy of this notebok : in the left-hand panel, right-click on this file and select \"Duplicate\"  <mark>\n",
    "\n",
    "You can also make backups during the analysis.\n",
    "\n",
    "---\n",
    " \n",
    "   \n",
    "       \n",
    "    \n",
    "    \n",
    "### I. Quantification of reads on genomic features\n",
    "    \n",
    "This part is very short, and consists in taking every genomic features provided in the gff file (here, genes), and counting the number of reads that are mapped within the boundaries of these elements.\n",
    "\n",
    "We use **bedtools** v2.29.2, with the -*multicov*_ command.\n",
    "As in Practical Sessions 3 and 4, a _*for*_ loop will run the program once for each element in the provided list."
   ]
  },
  {
   "cell_type": "code",
   "execution_count": null,
   "metadata": {},
   "outputs": [],
   "source": [
    "# Quantify your data by annotated features using BEDTOOLS with the following command\n",
    "# multicov is to count the number of reads to multiple features\n",
    "# -bams is to specify you are using bam files rather than sam files\n",
    "# -bed is the option to specify the name of the annotation file, here the .gff file\n",
    "# An index, initially set at the value 1, is incremented at each step to provide a way to follow the progress of the analysis.\n",
    "\n",
    "# Creation of a subfolder /Counts for writing the results\n",
    "mkdir ./Results/Counts\n",
    "\n",
    "\n",
    "#Runs for multiple gene_counts outputs, with relevant names\n",
    "i=1\n",
    "for name in Normoxia_1 Hypoxia_1 SRR352261 SRR352264 SRR352266 SRR352267 SRR352270 SRR352273 SRR352274 SRR352276\n",
    "    do mybam=\"./Results/\"\"$name\"\"_bowtie_mapping.sorted.bam\"\n",
    "    echo \"------ Analysing file number $i ------\"\n",
    "    echo \"My bam file is: $mybam\"\n",
    "    myout=\"./Results/Counts/\"\"$name\"\"_gene_counts.gff\"\n",
    "    echo \"My output is: $myout \"\n",
    "    bedtools multicov -bams $mybam -bed /srv/data/meg-m2-rnaseq/genome/C_parapsilosis_ORFs.gff > $myout \n",
    "    ((i=i+1))\n",
    "done"
   ]
  },
  {
   "cell_type": "markdown",
   "metadata": {},
   "source": [
    "To visualize the beginning of the results, we use the command _*head*_ (by default it displays the 10 first lines of a text file."
   ]
  },
  {
   "cell_type": "code",
   "execution_count": null,
   "metadata": {},
   "outputs": [],
   "source": [
    "head ./Results/Counts/Normoxia_1_gene_counts.gff"
   ]
  },
  {
   "cell_type": "code",
   "execution_count": null,
   "metadata": {},
   "outputs": [],
   "source": [
    "head ./Results/Hypoxia_1_gene_counts.gff"
   ]
  },
  {
   "cell_type": "markdown",
   "metadata": {},
   "source": [
    "---\n",
    "\n",
    "\n",
    "The normalisation of the data will be performed during the statistical analysis of the data (tomorrow, during **Practical session 7**)\n",
    "\n",
    "---\n",
    "\n",
    "Now we go on with a lecture about basic principles of statitics. \n",
    "\n",
    "**=> Lecture 7 : Basic Statistics** "
   ]
  },
  {
   "cell_type": "markdown",
   "metadata": {},
   "source": [
    "\n",
    "---\n",
    "<div class=\"alert alert-block alert-info\"> \n",
    "    \n",
    "__*About jupyter notebooks*__\n",
    "\n",
    "- To add a new cell, click on the \"+\" icon in the menu bar above dans la barre des menus\n",
    "- You can \"click and drag\" to move a cell up or down\n",
    "- You choose the type of cell in the dropdow menu in the menu bar above\n",
    "    - 'Code' to enter command lines to be executed \n",
    "    - 'Markdown' cells to add text, that can be formatted with some characters \n",
    "- To execute a 'Code' cell, press SHIFT+ENTER or click on the \"play\" icon \n",
    "- To display a 'Markdown' cell, press SHIFT+ENTER or click on the \"play\" icon  \n",
    "- To modify a 'Markdown'cell, double-click on it\n",
    "</div>\n",
    "---"
   ]
  },
  {
   "cell_type": "code",
   "execution_count": null,
   "metadata": {},
   "outputs": [],
   "source": []
  }
 ],
 "metadata": {
  "kernelspec": {
   "display_name": "Bash",
   "language": "bash",
   "name": "bash"
  },
  "language_info": {
   "codemirror_mode": "shell",
   "file_extension": ".sh",
   "mimetype": "text/x-sh",
   "name": "bash"
  }
 },
 "nbformat": 4,
 "nbformat_minor": 4
}
