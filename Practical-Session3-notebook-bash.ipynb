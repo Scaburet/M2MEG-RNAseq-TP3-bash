{
 "cells": [
  {
   "cell_type": "markdown",
   "metadata": {},
   "source": [
    "# RNAseq Analysis Module"
   ]
  },
  {
   "cell_type": "markdown",
   "metadata": {},
   "source": [
    "## Practical Session 3: Quality check of raw data and mapping \n",
    "\n",
    "Tuesday, the 1st of December, 2020   \n",
    "Claire Vandiedonck and Sandrine Caburet - 2020  \n",
    "      1. Getting started   \n",
    "      2. Quality controls on Cparapsilosis fastq files   \n",
    "      3. Mapping the reads on CParasilosis genome using the BOWTIE program  \n",
    "      4. Managing the output files\n"
   ]
  },
  {
   "cell_type": "markdown",
   "metadata": {},
   "source": [
    "---\n",
    "**Before going further**\n",
    "\n",
    "<mark>Before starting the analysis, save a backup copy of this notebok : in the left-hand panel, right-click on this file and select \"Duplicate\"  <mark>\n",
    "\n",
    "You can also make backups during the analysis.\n",
    "\n",
    "---\n",
    "\n",
    "__*About jupyter notebooks*__\n",
    "\n",
    "- To add a new cell, click on the \"+\" icon in the menu bar above dans la barre des menus\n",
    "- You can \"click and drag\" to move a cell up or down\n",
    "- You choose the type of cell in the dropdow menu in the menu bar above\n",
    "    - 'Code' to enter command lines to be executed \n",
    "    - 'Markdown' cells to add text, that can be formatted with some characters \n",
    "- To execute a 'Code' cell, press SHIFT+ENTER or click on the \"play\" icon \n",
    "- To display a 'Markdown' cell, press SHIFT+ENTER or click on the \"play\" icon  \n",
    "- To modify a 'Markdown'cell, double-click on it\n",
    "    \n",
    "---"
   ]
  },
  {
   "cell_type": "markdown",
   "metadata": {},
   "source": [
    "\n",
    "__*About this jupyter notebook*__\n",
    "\n",
    "This a jupyter notebook in **bash**, meaning that the commands you will enter or run in 'Code' cells are directly understood by the server. You could run the same commands in a 'Terminal' (the frightening black window that informaticians use :-D). \n",
    "\n",
    "(If you want to see this by yourself, you can open a terminal here: \n",
    "- in the \"File\" menu in the top bar, select 'New Launcher'\n",
    "- open either a bash 'Console' or a 'Terminal'\n",
    "- you'll be able to copy and paste the commands from the 'Code' cells of the notebook in the bottom cell (for the console) or after the $ sign (for the terminal)   \n",
    "This is for your information only, and not needed. All the commands are already included in this notebook)\n",
    "\n",
    "In this practical, you will run one command at a time.   \n",
    "In Unix, all characters are case sensitive. It is good practice to avoid accents and special characters.   \n",
    "Within 'Code' cells, lines starting with a **#** are comments and are not interpreted as a command. They are meant to help you.  \n",
    "You may add your own comments as well, either in a 'Code' cell using this #, or in a new 'Markdown' cell added with the \"+\" above.  \n",
    "If you add cells with comments, or modify existing cells, **don't forget to save your notebook**."
   ]
  },
  {
   "cell_type": "markdown",
   "metadata": {},
   "source": [
    "## I - Getting started\n",
    "\n",
    "**1- Working directory** \n",
    "\n",
    "The working directory is where you are currently located in the server. By default, for this practical session using this notebook, this is the folder displayed by the opening of the environment, that you performed when you selected the correct 'server' and launched it: it created the corresponding folder in you home.  \n",
    "\n",
    "To check where you are working, use the _*pwd*_ command, which stands for \"path to working directory\":"
   ]
  },
  {
   "cell_type": "code",
   "execution_count": 30,
   "metadata": {},
   "outputs": [
    {
     "name": "stdout",
     "output_type": "stream",
     "text": [
      "/srv/home/scaburet/m2meg-rnaseq-tp3-bash-3\n"
     ]
    }
   ],
   "source": [
    "pwd"
   ]
  },
  {
   "cell_type": "markdown",
   "metadata": {},
   "source": [
    "The content of this working directory is displayed in the left panel. You can also list the content of this folder with the _*ls*_ command (list):"
   ]
  },
  {
   "cell_type": "code",
   "execution_count": 16,
   "metadata": {},
   "outputs": [
    {
     "name": "stdout",
     "output_type": "stream",
     "text": [
      "total 772M\n",
      "drwxr-xr-x 2 scaburet scaburet 4.0K Nov 17 11:46 binder\n",
      "-rw-rw-r-- 1 scaburet scaburet 7.6M Nov 18 12:18 C_parapsilosis.1.ebwt\n",
      "-rw-rw-r-- 1 scaburet scaburet 1.6M Nov 18 12:18 C_parapsilosis.2.ebwt\n",
      "-rw-rw-r-- 1 scaburet scaburet   89 Nov 18 12:18 C_parapsilosis.3.ebwt\n",
      "-rw-rw-r-- 1 scaburet scaburet 3.2M Nov 18 12:18 C_parapsilosis.4.ebwt\n",
      "-rw-rw-r-- 1 scaburet scaburet 7.6M Nov 18 12:18 C_parapsilosis.rev.1.ebwt\n",
      "-rw-rw-r-- 1 scaburet scaburet 1.6M Nov 18 12:18 C_parapsilosis.rev.2.ebwt\n",
      "-rw-r--r-- 1 scaburet scaburet 4.2K Nov 17 11:46 example-notebook.ipynb\n",
      "-rw-rw-r-- 1 scaburet scaburet 338M Nov 17 17:06 Hypoxia_1_bowtie_mapping.sorted.bam\n",
      "-rw-rw-r-- 1 scaburet scaburet  35K Nov 17 17:06 Hypoxia_1_bowtie_mapping.sorted.bam.bai\n",
      "-rw-rw-r-- 1 scaburet scaburet 583K Nov 17 15:59 Hypoxia_1_fastqc.html\n",
      "-rw-rw-r-- 1 scaburet scaburet 415K Nov 17 15:59 Hypoxia_1_fastqc.zip\n",
      "-rw-r--r-- 1 scaburet scaburet 1.5K Nov 17 11:46 LICENSE\n",
      "-rw-rw-r-- 1 scaburet scaburet 410M Nov 17 16:40 Normoxia_1_bowtie_mapping.sorted.bam\n",
      "-rw-rw-r-- 1 scaburet scaburet  38K Nov 17 17:02 Normoxia_1_bowtie_mapping.sorted.bam.bai\n",
      "-rw-rw-r-- 1 scaburet scaburet 597K Nov 18 11:56 Normoxia_1_fastqc.html\n",
      "-rw-rw-r-- 1 scaburet scaburet 454K Nov 18 11:56 Normoxia_1_fastqc.zip\n",
      "-rw-r--r-- 1 scaburet scaburet  235 Nov 17 11:46 people.dat\n",
      "-rw-r--r-- 1 scaburet scaburet 1.4K Nov 17 11:46 README.md\n",
      "-rw-rw-r-- 1 scaburet scaburet  15K Nov 17 17:42 TP3-notebook-Copy1.ipynb\n",
      "-rw-rw-r-- 1 scaburet scaburet  25K Nov 18 13:49 TP3-notebook.ipynb\n",
      "-rw-rw-r-- 1 scaburet scaburet 971K Nov 17 16:14 Untitled.ipynb\n"
     ]
    }
   ],
   "source": [
    "# the option -l will provide details of size for each file, \n",
    "# the option h stands for human, to read the file size in a human easy manner. \n",
    "# the two options are combined with -lh\n",
    "\n",
    "ls -lh"
   ]
  },
  {
   "cell_type": "markdown",
   "metadata": {},
   "source": [
    "  "
   ]
  },
  {
   "cell_type": "markdown",
   "metadata": {},
   "source": [
    "**2- Data**   \n",
    "The data files are already present on the server, in the */srv/data/meg-m2-rnaseq/genome/* and in */srv/data/meg-m2-rnaseq/experimental_data* folders.  \n",
    "Therefore, to be able to use these data files, we indicate the full **path** to these folders:"
   ]
  },
  {
   "cell_type": "code",
   "execution_count": 18,
   "metadata": {},
   "outputs": [
    {
     "name": "stdout",
     "output_type": "stream",
     "text": [
      "total 14M\n",
      "-rw-r--r-- 1 scaburet 1012 3.9K Nov 13 14:50 C_parapsilosis_CDC317_GO_distrib-5958g.txt\n",
      "-rwxrwxr-x 1 scaburet 1012  13M Nov 16 19:15 C_parapsilosis_CGD.fasta\n",
      "-rwxrwxr-x 1     1002 1011  497 Nov 17 20:09 C_parapsilosis_CGD.fasta.fai\n",
      "-rwxrwxr-x 1 scaburet 1012 460K Nov 16 19:12 C_parapsilosis_ORFs.gff\n"
     ]
    }
   ],
   "source": [
    "# Here we list the content of the folder containing the genome data\n",
    "\n",
    "ls -lh /srv/data/meg-m2-rnaseq/genome/"
   ]
  },
  {
   "cell_type": "code",
   "execution_count": 20,
   "metadata": {},
   "outputs": [
    {
     "name": "stdout",
     "output_type": "stream",
     "text": [
      "total 4.1G\n",
      "-rwxrwxr-x 1 scaburet 1012 2.1G Nov 17 14:31 Hypoxia_1.fastq\n",
      "-rwxrwxr-x 1 scaburet 1012 2.0G Nov 17 14:10 Normoxia_1.fastq\n"
     ]
    }
   ],
   "source": [
    "# Here we list the content of the folder containing the experimental data\n",
    "\n",
    "ls -lh /srv/data/meg-m2-rnaseq/experimental_data/"
   ]
  },
  {
   "cell_type": "markdown",
   "metadata": {},
   "source": [
    "If you had copied these input files on your computer, it would have been useful to verify that they are intact and not corrupted.  \n",
    "This is performed by computing a _*md5sum*_, a kind of \"barcode\", that should be the same as the one computed before the copy."
   ]
  },
  {
   "cell_type": "code",
   "execution_count": 21,
   "metadata": {},
   "outputs": [
    {
     "name": "stdout",
     "output_type": "stream",
     "text": [
      "6455d97a060c3c7d1e94112f818fa046  /srv/data/meg-m2-rnaseq/genome/C_parapsilosis_CDC317_GO_distrib-5958g.txt\n",
      "e189032dafc2b7013eeae7d33cbf9458  /srv/data/meg-m2-rnaseq/genome/C_parapsilosis_CGD.fasta\n",
      "537217ec9ac54343af31b28521c0c6f3  /srv/data/meg-m2-rnaseq/genome/C_parapsilosis_CGD.fasta.fai\n",
      "e86c62e99a240c0ac309cd067d105522  /srv/data/meg-m2-rnaseq/genome/C_parapsilosis_ORFs.gff\n"
     ]
    }
   ],
   "source": [
    "# In a command, * stands for 'anything'.\n",
    "\n",
    "md5sum /srv/data/meg-m2-rnaseq/genome/*\n",
    "\n",
    "#You should get the following \"barcodes\" for each file :\n",
    "# 6455d97a060c3c7d1e94112f818fa046  /srv/data/meg-m2-rnaseq/C_parapsilosis_CDC317_GO_distrib-5958g.txt\n",
    "# e189032dafc2b7013eeae7d33cbf9458  /srv/data/meg-m2-rnaseq/C_parapsilosis_CGD.fasta\n",
    "# 537217ec9ac54343af31b28521c0c6f3  /srv/data/meg-m2-rnaseq/genome/C_parapsilosis_CGD.fasta.fai\n",
    "# e86c62e99a240c0ac309cd067d105522  /srv/data/meg-m2-rnaseq/C_parapsilosis_ORFs.gff\n"
   ]
  },
  {
   "cell_type": "code",
   "execution_count": 23,
   "metadata": {},
   "outputs": [
    {
     "name": "stdout",
     "output_type": "stream",
     "text": [
      "2fb96155f5c708709a7539c7ff19e9ff  /srv/data/meg-m2-rnaseq/experimental_data/Hypoxia_1.fastq\n",
      "0d8d81a7464f6b662b89a9cea5bb8d1c  /srv/data/meg-m2-rnaseq/experimental_data/Normoxia_1.fastq\n"
     ]
    }
   ],
   "source": [
    "# And now for the experimental data :\n",
    "\n",
    "md5sum /srv/data/meg-m2-rnaseq/experimental_data/*\n",
    "\n",
    "#You should get the following \"barcodes\" for each file :\n",
    "\n",
    "# 2fb96155f5c708709a7539c7ff19e9ff  /srv/data/meg-m2-rnaseq/Hypoxia_1.fastq\n",
    "# 0d8d81a7464f6b662b89a9cea5bb8d1c  /srv/data/meg-m2-rnaseq/Normoxia_1.fastq"
   ]
  },
  {
   "cell_type": "markdown",
   "metadata": {},
   "source": [
    "  "
   ]
  },
  {
   "cell_type": "markdown",
   "metadata": {},
   "source": [
    "You are now ready to check and analyse the data! \n",
    "\n",
    "-------"
   ]
  },
  {
   "cell_type": "markdown",
   "metadata": {},
   "source": [
    "## II - Quality controls on Cparapsilosis fastq files\n",
    "\n",
    "**1- Examining the data**   \n",
    "fastq files are readable by the human eye, and we can display the first and last lines of each file, using the _*head*_ and _*tail*_ commands:  "
   ]
  },
  {
   "cell_type": "code",
   "execution_count": 1,
   "metadata": {},
   "outputs": [
    {
     "name": "stdout",
     "output_type": "stream",
     "text": [
      "@O2rep2_SRR352263.1 HWI-EAS283:5:1:2:642 length=40\n",
      "ACTTAATACACACCCAATTCCCTCTTCATCTGATCTAAAT\n",
      "+O2rep2_SRR352263.1 HWI-EAS283:5:1:2:642 length=40\n",
      "+55-891>3<7A=./<<232?AAB7C?6AB=-7'-<,A:#\n",
      "@O2rep2_SRR352263.2 HWI-EAS283:5:1:2:1439 length=40\n",
      "AATTTGTTCAACGTTTCTTCCCATCATCAAACATTCTGTT\n",
      "+O2rep2_SRR352263.2 HWI-EAS283:5:1:2:1439 length=40\n",
      ":-7=>0;AA;39'&86>8;@0A4?################\n",
      "@O2rep2_SRR352263.3 HWI-EAS283:5:1:3:874 length=40\n",
      "ATTTATATTTTTTTTATTTCTTTTACCTTCCCTTCTTATT\n"
     ]
    }
   ],
   "source": [
    "head /srv/data/meg-m2-rnaseq/experimental_data/Normoxia_1.fastq"
   ]
  },
  {
   "cell_type": "code",
   "execution_count": 2,
   "metadata": {},
   "outputs": [
    {
     "name": "stdout",
     "output_type": "stream",
     "text": [
      "+O2rep2_SRR352263.10213663 HWI-EAS283:5:100:1789:357 length=40\n",
      "9@AAB5BCB</6?CC@B9ABB>9@97>166)38B:47<:3\n",
      "@O2rep2_SRR352263.10213664 HWI-EAS283:5:100:1789:667 length=40\n",
      "TGGAATACCTTCTTTGTCTTGGATTTTGGACTTGAGATTG\n",
      "+O2rep2_SRR352263.10213664 HWI-EAS283:5:100:1789:667 length=40\n",
      "B@@@=0<;5A@0:A*=@@?@####################\n",
      "@O2rep2_SRR352263.10213665 HWI-EAS283:5:100:1790:9 length=40\n",
      "CATTTGATGCCATCGCGCTCAATGAAAATTATAAAANAAA\n",
      "+O2rep2_SRR352263.10213665 HWI-EAS283:5:100:1790:9 length=40\n",
      "=@BCCB.B:BBBBA*@B=AB8BB8B=BBBCA(:.B1%:6C\n"
     ]
    }
   ],
   "source": [
    "tail /srv/data/meg-m2-rnaseq/experimental_data/Normoxia_1.fastq"
   ]
  },
  {
   "cell_type": "code",
   "execution_count": 3,
   "metadata": {},
   "outputs": [
    {
     "name": "stdout",
     "output_type": "stream",
     "text": [
      "@noO2rep3_SRR352271.1 HWI-EAS283_0006:2:1:0:157 length=42\n",
      "NTCCGTATTCCCTATGCCTCGTACAAATTNCTTNCAAATCCT\n",
      "+noO2rep3_SRR352271.1 HWI-EAS283_0006:2:1:0:157 length=42\n",
      "%198387:;699;96/56;838:::9:5&%/;1%/999::::\n",
      "@noO2rep3_SRR352271.2 HWI-EAS283_0006:2:1:0:1006 length=42\n",
      "NCAATTGCAATTTCCAATGTCTATCATACAAATCCTCTTCTT\n",
      "+noO2rep3_SRR352271.2 HWI-EAS283_0006:2:1:0:1006 length=42\n",
      "%0;<<717;6;<<<:<<7/7<<<979;;;;;<999999<8;;\n",
      "@noO2rep3_SRR352271.3 HWI-EAS283_0006:2:1:0:1599 length=42\n",
      "NCTCCTAATTTCAATTTATACAATATTGTGGTTTTTTTTTCA\n"
     ]
    }
   ],
   "source": [
    "head /srv/data/meg-m2-rnaseq/experimental_data/Hypoxia_1.fastq"
   ]
  },
  {
   "cell_type": "code",
   "execution_count": 4,
   "metadata": {},
   "outputs": [
    {
     "name": "stdout",
     "output_type": "stream",
     "text": [
      "+noO2rep3_SRR352271.10136007 HWI-EAS283_0006:2:120:1789:1639 length=42\n",
      "5BB@CCBCCCA+=CCBBBBB6<B@C@CBBCAA@AAB?%3B3?\n",
      "@noO2rep3_SRR352271.10136008 HWI-EAS283_0006:2:120:1789:872 length=42\n",
      "CTCCCGTACTTTTTTATATAATGCTTCTTTTGATGCTNTTTG\n",
      "+noO2rep3_SRR352271.10136008 HWI-EAS283_0006:2:120:1789:872 length=42\n",
      "BCBAA7B??CCCCCC>CBC>BC?BCCACCCB9AC8@?%>C@#\n",
      "@noO2rep3_SRR352271.10136009 HWI-EAS283_0006:2:120:1789:1527 length=42\n",
      "CCCACGATTGATAATATTGTGGAATCAAGTCCATTGANGTCT\n",
      "+noO2rep3_SRR352271.10136009 HWI-EAS283_0006:2:120:1789:1527 length=42\n",
      "BABBB9BBCABCAB+5CB:BB?BBC?BBC7?B?A@-7%3ABC\n"
     ]
    }
   ],
   "source": [
    "tail /srv/data/meg-m2-rnaseq/experimental_data/Hypoxia_1.fastq"
   ]
  },
  {
   "cell_type": "markdown",
   "metadata": {},
   "source": [
    "**2- fastqc**  \n",
    "Now we run again the fastqc quality control, with the following command lines, where we indicate after the command _*fastqc*_ and the name of the file to examine (with its path) where to write the results : the dot . stands for \"current working directory\". "
   ]
  },
  {
   "cell_type": "code",
   "execution_count": 5,
   "metadata": {},
   "outputs": [
    {
     "name": "stdout",
     "output_type": "stream",
     "text": [
      "Started analysis of Normoxia_1.fastq\n",
      "Approx 5% complete for Normoxia_1.fastq\n",
      "Approx 10% complete for Normoxia_1.fastq\n",
      "Approx 15% complete for Normoxia_1.fastq\n",
      "Approx 20% complete for Normoxia_1.fastq\n",
      "Approx 25% complete for Normoxia_1.fastq\n",
      "Approx 30% complete for Normoxia_1.fastq\n",
      "Approx 35% complete for Normoxia_1.fastq\n",
      "Approx 40% complete for Normoxia_1.fastq\n",
      "Approx 45% complete for Normoxia_1.fastq\n",
      "Approx 50% complete for Normoxia_1.fastq\n",
      "Approx 55% complete for Normoxia_1.fastq\n",
      "Approx 60% complete for Normoxia_1.fastq\n",
      "Approx 65% complete for Normoxia_1.fastq\n",
      "Approx 70% complete for Normoxia_1.fastq\n",
      "Approx 75% complete for Normoxia_1.fastq\n",
      "Approx 80% complete for Normoxia_1.fastq\n",
      "Approx 85% complete for Normoxia_1.fastq\n",
      "Approx 90% complete for Normoxia_1.fastq\n",
      "Approx 95% complete for Normoxia_1.fastq\n",
      "Analysis complete for Normoxia_1.fastq\n"
     ]
    }
   ],
   "source": [
    "fastqc /srv/data/meg-m2-rnaseq/experimental_data/Normoxia_1.fastq --outdir ."
   ]
  },
  {
   "cell_type": "markdown",
   "metadata": {},
   "source": [
    "The ouputs are in a .zip folder, but there is no need to open them, as a summary in html is also provided. To open it, in the left-hand part double-click on the html file, it should open in a new tab."
   ]
  },
  {
   "cell_type": "code",
   "execution_count": 13,
   "metadata": {},
   "outputs": [
    {
     "name": "stdout",
     "output_type": "stream",
     "text": [
      "Started analysis of Hypoxia_1.fastq\n",
      "Approx 5% complete for Hypoxia_1.fastq\n",
      "Approx 10% complete for Hypoxia_1.fastq\n",
      "Approx 15% complete for Hypoxia_1.fastq\n",
      "Approx 20% complete for Hypoxia_1.fastq\n",
      "Approx 25% complete for Hypoxia_1.fastq\n",
      "Approx 30% complete for Hypoxia_1.fastq\n",
      "Approx 35% complete for Hypoxia_1.fastq\n",
      "Approx 40% complete for Hypoxia_1.fastq\n",
      "Approx 45% complete for Hypoxia_1.fastq\n",
      "Approx 50% complete for Hypoxia_1.fastq\n",
      "Approx 55% complete for Hypoxia_1.fastq\n",
      "Approx 60% complete for Hypoxia_1.fastq\n",
      "Approx 65% complete for Hypoxia_1.fastq\n",
      "Approx 70% complete for Hypoxia_1.fastq\n",
      "Approx 75% complete for Hypoxia_1.fastq\n",
      "Approx 80% complete for Hypoxia_1.fastq\n",
      "Approx 85% complete for Hypoxia_1.fastq\n",
      "Approx 90% complete for Hypoxia_1.fastq\n",
      "Approx 95% complete for Hypoxia_1.fastq\n",
      "Analysis complete for Hypoxia_1.fastq\n"
     ]
    }
   ],
   "source": [
    "fastqc /srv/data/meg-m2-rnaseq/experimental_data/Hypoxia_1.fastq --outdir ."
   ]
  },
  {
   "cell_type": "markdown",
   "metadata": {},
   "source": [
    "  "
   ]
  },
  {
   "cell_type": "markdown",
   "metadata": {},
   "source": [
    "## III - Mapping the reads on CParapsilosis genome using the BOWTIE algorithm (version 1.3.0) \n",
    "\n",
    "**1- Generating the indexes of the C. parapsilosis genome**   \n",
    "The indexes are small files that tell a program where to look for data in a large data file. They are required for mapping algorithms, as they allow for faster processing of millions reads. "
   ]
  },
  {
   "cell_type": "code",
   "execution_count": 11,
   "metadata": {},
   "outputs": [],
   "source": [
    "bowtie-build -q /srv/data/meg-m2-rnaseq/genome/C_parapsilosis_CGD.fasta C_parapsilosis "
   ]
  },
  {
   "cell_type": "markdown",
   "metadata": {},
   "source": [
    "The index files have the .ebwt suffix :"
   ]
  },
  {
   "cell_type": "code",
   "execution_count": 12,
   "metadata": {},
   "outputs": [
    {
     "name": "stdout",
     "output_type": "stream",
     "text": [
      "-rw-rw-r-- 1 scaburet scaburet 7.6M Nov 18 12:18 C_parapsilosis.1.ebwt\n",
      "-rw-rw-r-- 1 scaburet scaburet 1.6M Nov 18 12:18 C_parapsilosis.2.ebwt\n",
      "-rw-rw-r-- 1 scaburet scaburet   89 Nov 18 12:18 C_parapsilosis.3.ebwt\n",
      "-rw-rw-r-- 1 scaburet scaburet 3.2M Nov 18 12:18 C_parapsilosis.4.ebwt\n",
      "-rw-rw-r-- 1 scaburet scaburet 7.6M Nov 18 12:18 C_parapsilosis.rev.1.ebwt\n",
      "-rw-rw-r-- 1 scaburet scaburet 1.6M Nov 18 12:18 C_parapsilosis.rev.2.ebwt\n"
     ]
    }
   ],
   "source": [
    "ls -lh *.ebwt"
   ]
  },
  {
   "cell_type": "markdown",
   "metadata": {},
   "source": [
    "**2- Mapping the reads**  \n",
    "We use Bowtie, a mapper that is very simple and efficient. It's not recent at all, and cannot deal with intron-containing genome, but here it works fine."
   ]
  },
  {
   "cell_type": "code",
   "execution_count": 18,
   "metadata": {},
   "outputs": [
    {
     "name": "stdout",
     "output_type": "stream",
     "text": [
      "# reads processed: 10213665\n",
      "# reads with at least one alignment: 9160959 (89.69%)\n",
      "# reads that failed to align: 1052706 (10.31%)\n",
      "Reported 9160959 alignments\n"
     ]
    }
   ],
   "source": [
    "# the -S option tells bowtie to generate a .sam file  \n",
    "# the -x option indicates the name of the various index files  \n",
    "# the last argument is the name of the output file\n",
    "\n",
    "bowtie -S /srv/data/meg-m2-rnaseq/experimental_data/Normoxia_1.fastq -x C_parapsilosis Normoxia_1_bowtie_mapping.sam"
   ]
  },
  {
   "cell_type": "code",
   "execution_count": 19,
   "metadata": {},
   "outputs": [
    {
     "name": "stdout",
     "output_type": "stream",
     "text": [
      "# reads processed: 10136009\n",
      "# reads with at least one alignment: 9252407 (91.28%)\n",
      "# reads that failed to align: 883602 (8.72%)\n",
      "Reported 9252407 alignments\n"
     ]
    }
   ],
   "source": [
    "bowtie -S /srv/data/meg-m2-rnaseq/experimental_data/Hypoxia_1.fastq -x C_parapsilosis Hypoxia_1_bowtie_mapping.sam"
   ]
  },
  {
   "cell_type": "markdown",
   "metadata": {},
   "source": [
    "*Question:*   \n",
    "For each dataset:\n",
    "how many reads were processed?  \n",
    "Mapped?  \n",
    "Written in the output file?"
   ]
  },
  {
   "cell_type": "markdown",
   "metadata": {},
   "source": [
    "## IV - Managing the output files\n",
    "\n",
    "**1- Converting, sorting and indexing the output files**  \n",
    "The downstream analysis is not performed on *sam* files, but on binary versions of these : *bam* files.  \n",
    "So we are going to:  \n",
    "- convert the *sam* into *bam* files, \n",
    "- then sort them in genomic order,  \n",
    "- finally index them, to produce the companion *bai* files"
   ]
  },
  {
   "cell_type": "markdown",
   "metadata": {},
   "source": [
    "The commands used for this part belong to a large package of utilities that are very useful to manage those types of files: **samtools**.  \n",
    "\n",
    "The first step is performed with *samtools view*.   "
   ]
  },
  {
   "cell_type": "code",
   "execution_count": 20,
   "metadata": {},
   "outputs": [],
   "source": [
    "# The 'view' function allows to display bam/sam files, \n",
    "# -b is to specify that outputs are bam files, \n",
    "# -o is to provide the name of the ouput file.\n",
    "\n",
    "samtools view -b Hypoxia_1_bowtie_mapping.sam -o Hypoxia_1_bowtie_mapping.bam"
   ]
  },
  {
   "cell_type": "markdown",
   "metadata": {},
   "source": [
    "The second step is performed with *samtools sort*. Again, -o is to provide the name of the ouput file."
   ]
  },
  {
   "cell_type": "code",
   "execution_count": 22,
   "metadata": {},
   "outputs": [
    {
     "name": "stdout",
     "output_type": "stream",
     "text": [
      "[bam_sort_core] merging from 2 files and 1 in-memory blocks...\n"
     ]
    }
   ],
   "source": [
    "samtools sort Normoxia_1_bowtie_mapping.bam -o Normoxia_1_bowtie_mapping.sorted.bam"
   ]
  },
  {
   "cell_type": "markdown",
   "metadata": {},
   "source": [
    "The third step is performed with *samtools index*.  \n",
    "There is no need to provide a name of the ouput file, as it should always be the same as the corresponding *bam* file, except for the *bai* suffix."
   ]
  },
  {
   "cell_type": "code",
   "execution_count": 23,
   "metadata": {},
   "outputs": [],
   "source": [
    "samtools index Normoxia_1_bowtie_mapping.sorted.bam"
   ]
  },
  {
   "cell_type": "markdown",
   "metadata": {},
   "source": [
    "For the Hypoxia data set, we can proceed to the 3 steps in the same cell: the commands will be executed one after the other."
   ]
  },
  {
   "cell_type": "code",
   "execution_count": 24,
   "metadata": {},
   "outputs": [
    {
     "name": "stdout",
     "output_type": "stream",
     "text": [
      "[bam_sort_core] merging from 2 files and 1 in-memory blocks...\n"
     ]
    }
   ],
   "source": [
    "samtools view -b Normoxia_1_bowtie_mapping.sam -o Normoxia_1_bowtie_mapping.bam\n",
    "samtools sort Hypoxia_1_bowtie_mapping.bam -o Hypoxia_1_bowtie_mapping.sorted.bam\n",
    "samtools index Hypoxia_1_bowtie_mapping.sorted.bam"
   ]
  },
  {
   "cell_type": "markdown",
   "metadata": {},
   "source": [
    "**2- Removing the intermediate files**  \n",
    "The only files needed for the rest of the analysis are the mapped-sorted *bam* files and their corresponding *bai* index files. So we are going to save some space by deleting the intermediate files that are not needed any more. (Anyway you can easily produce them again, by running the corresponding Code cell above).  \n",
    "You can delete a file by right-clicking on it and choosing 'x Delete', or by running the *rm* command (remove):"
   ]
  },
  {
   "cell_type": "code",
   "execution_count": 14,
   "metadata": {},
   "outputs": [],
   "source": [
    "rm Normoxia_1_bowtie_mapping.bam\n",
    "rm Hypoxia_1_bowtie_mapping.bam"
   ]
  },
  {
   "cell_type": "code",
   "execution_count": 15,
   "metadata": {},
   "outputs": [
    {
     "name": "stdout",
     "output_type": "stream",
     "text": [
      "rm: cannot remove '*.sam': No such file or directory\n"
     ]
    },
    {
     "ename": "",
     "evalue": "1",
     "output_type": "error",
     "traceback": []
    }
   ],
   "source": [
    "# removing all the .sam files at the same time\n",
    "\n",
    "rm *.sam"
   ]
  },
  {
   "cell_type": "markdown",
   "metadata": {},
   "source": [
    "\n",
    "---\n",
    "\n",
    "Now we go on with a lecture about what is indicated in the output sorted *bam* files. \n",
    "\n",
    "**=> Lecture 5 : Mapping output** "
   ]
  }
 ],
 "metadata": {
  "kernelspec": {
   "display_name": "Bash",
   "language": "bash",
   "name": "bash"
  },
  "language_info": {
   "codemirror_mode": "shell",
   "file_extension": ".sh",
   "mimetype": "text/x-sh",
   "name": "bash"
  }
 },
 "nbformat": 4,
 "nbformat_minor": 4
}
